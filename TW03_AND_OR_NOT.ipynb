{
 "cells": [
  {
   "cell_type": "code",
   "execution_count": 3,
   "metadata": {},
   "outputs": [
    {
     "name": "stdout",
     "output_type": "stream",
     "text": [
      "0.0 0.2\n",
      "0.2 0.2\n",
      "------->\n",
      "------->\n",
      "Final Output of OR ::\n",
      "\n",
      "Weights: w1=0.2 and w2=0.2 >>>> [0, 1, 1, 1]\n"
     ]
    }
   ],
   "source": [
    "def OR():\n",
    "    w1=0;w2=0;a=0.2;t=0\n",
    "    X=[[0,0],[0,1],[1,0],[1,1]]\n",
    "    Y=[0,1,1,1]\n",
    "\n",
    "    while(True):\n",
    "        Out=[]\n",
    "        count = 0\n",
    "        for i in X:\n",
    "            step=(w1*i[0]+w2*i[1])\n",
    "            if step<=t:\n",
    "                O=0\n",
    "                if O==Y[count]:\n",
    "                    Out.append(O)\n",
    "                    count+=1\n",
    "                else:\n",
    "                    w1=w1+(a*i[0]*1)\n",
    "                    w2=w2+(a*i[1]*1)\n",
    "                    print(w1,w2)\n",
    "\n",
    "            else:\n",
    "                O=1\n",
    "                if O==Y[count]:\n",
    "                    Out.append(O)\n",
    "                    count+=1\n",
    "                else:\n",
    "                    w1 = w1 + (a * i[0] * 0)\n",
    "                    w2 = w2 + (a * i[1] * 0)\n",
    "                    print(w1,w2)\n",
    "        print(\"------->\")\n",
    "        if Out[0:]==Y[0:]:\n",
    "            print(\"Final Output of OR ::\\n\")\n",
    "            print(\"Weights: w1={} and w2={} >>>> {}\".format(w1,w2,Out))\n",
    "            break\n",
    "\n",
    "OR()"
   ]
  },
  {
   "cell_type": "code",
   "execution_count": 11,
   "metadata": {},
   "outputs": [
    {
     "name": "stdout",
     "output_type": "stream",
     "text": [
      "0 0 [0]\n",
      "0 0 [0, 0]\n",
      "0 0 [0, 0, 0]\n",
      "Weights changed to..\n",
      "w1=0.2 w2=0.2\n",
      "------->\n",
      "0.2 0.2 [0]\n",
      "0.2 0.2 [0, 0]\n",
      "0.2 0.2 [0, 0, 0]\n",
      "Weights changed to..\n",
      "w1=0.4 w2=0.4\n",
      "------->\n",
      "0.4 0.4 [0]\n",
      "0.4 0.4 [0, 0]\n",
      "0.4 0.4 [0, 0, 0]\n",
      "Weights changed to..\n",
      "w1=0.6 w2=0.6\n",
      "------->\n",
      "0.6000000000000001 0.6000000000000001 [0]\n",
      "0.6000000000000001 0.6000000000000001 [0, 0]\n",
      "0.6000000000000001 0.6000000000000001 [0, 0, 0]\n",
      "0.6000000000000001 0.6000000000000001 [0, 0, 0, 1]\n",
      "\n",
      "Final Output of AND::\n",
      "\n",
      "Weights: w1=0.6 and w2=0.6 >>>> [0, 0, 0, 1]\n"
     ]
    }
   ],
   "source": [
    "def AND():\n",
    "    w1=0;w2=0;a=0.2;t=1\n",
    "    X=[[0,0],[0,1],[1,0],[1,1]]\n",
    "    Y=[0,0,0,1]\n",
    "\n",
    "    while(True):\n",
    "        Out=[]\n",
    "        count = 0\n",
    "        for i in X:\n",
    "            step=(w1*i[0]+w2*i[1])\n",
    "            if step<=t:\n",
    "                O=0\n",
    "                if O==Y[count]:\n",
    "                    Out.append(O)\n",
    "                    count+=1\n",
    "                    print(w1,w2,Out)\n",
    "                else:\n",
    "                    print('Weights changed to..')\n",
    "                    w1=w1+(a*i[0]*1)\n",
    "                    w2=w2+(a*i[1]*1)\n",
    "                    print(\"w1={} w2={}\".format(round(w1,2),round(w2,2)))\n",
    "                    print(\"------->\")\n",
    "\n",
    "            else:\n",
    "                O=1\n",
    "                if O==Y[count]:\n",
    "                    Out.append(O)\n",
    "                    count+=1\n",
    "                    print(w1,w2,Out)\n",
    "                else:\n",
    "                    print(\"Weights Changed to..\")\n",
    "                    w1 = w1 + (a * i[0] * 0)\n",
    "                    w2 = w2 + (a * i[1] * 0)\n",
    "                    print(\"w1={} w2={}\".format(round(w1,2),round(w2,2)))\n",
    "                    print(\"------->\")\n",
    "\n",
    "        if Out[0:]==Y[0:]:\n",
    "            print(\"\\nFinal Output of AND::\\n\")\n",
    "            print(\"Weights: w1={} and w2={} >>>> {}\".format(round(w1,2),round(w2,2),Out))\n",
    "            break\n",
    "\n",
    "AND()"
   ]
  },
  {
   "cell_type": "code",
   "execution_count": 6,
   "metadata": {},
   "outputs": [
    {
     "name": "stdout",
     "output_type": "stream",
     "text": [
      "NOT Gate 0-->1\n",
      "NOT Gate 1-->0\n"
     ]
    }
   ],
   "source": [
    "def NOT():\n",
    "    X=[0,1]\n",
    "    Y=[1,0]\n",
    "    weight=-1\n",
    "    bias=1;Out=[]\n",
    "\n",
    "    for i in X:\n",
    "        j=weight*i+bias\n",
    "        Out.append(j)\n",
    "    for i in X:\n",
    "        print(\"NOT Gate {}-->{}\".format(X[i],Out[i]))\n",
    "\n",
    "NOT()"
   ]
  }
 ],
 "metadata": {
  "kernelspec": {
   "display_name": "Python 3",
   "language": "python",
   "name": "python3"
  },
  "language_info": {
   "codemirror_mode": {
    "name": "ipython",
    "version": 3
   },
   "file_extension": ".py",
   "mimetype": "text/x-python",
   "name": "python",
   "nbconvert_exporter": "python",
   "pygments_lexer": "ipython3",
   "version": "3.7.4"
  }
 },
 "nbformat": 4,
 "nbformat_minor": 2
}
