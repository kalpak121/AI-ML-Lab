{
 "cells": [
  {
   "cell_type": "code",
   "execution_count": 1,
   "metadata": {},
   "outputs": [
    {
     "name": "stdout",
     "output_type": "stream",
     "text": [
      "Enter Target Vertex>>>   3\n"
     ]
    }
   ],
   "source": [
    "#Graph Building\n",
    "\n",
    "VertexList=[str(i) for i in range(0,7)]\n",
    "\n",
    "EdgeList=[(0,1),(0,2),(1,0),(1,3),(2,0),(2,4),(2,5),(3,1),(4,2),(5,2),(6,4),(4,6)] #undirected Graph\n",
    "\n",
    "AdjList=[[] for vertex in VertexList] #empty initialy\n",
    "\n",
    "for edge in EdgeList:\n",
    "    AdjList[edge[0]].append(edge[1])#List of Adjacent Vertices\n",
    "\n",
    "Target=int(input(\"Enter Target Vertex>>>   \"))    "
   ]
  },
  {
   "cell_type": "code",
   "execution_count": 12,
   "metadata": {},
   "outputs": [
    {
     "name": "stdout",
     "output_type": "stream",
     "text": [
      "Output of Deapth First Search >>>>>  [0, 2, 5, 4, 6, 1, 3]\n",
      "Comparative Factor >>>>>12\n"
     ]
    }
   ],
   "source": [
    "#DFS for a graph\n",
    "    \n",
    "def DFS():\n",
    "\n",
    "    Stack=[]\n",
    "    Stack.append(0)\n",
    "    visitedList=[]\n",
    "    DFSstep=0\n",
    "    while Stack:\n",
    "        current=Stack.pop()\n",
    "        \n",
    "        for neighbour in AdjList[current]:\n",
    "            DFSstep+=1\n",
    "            if not neighbour in visitedList:\n",
    "                Stack.append(neighbour)\n",
    "              \n",
    "        visitedList.append(current)\n",
    "        if current==Target:\n",
    "            break\n",
    "    print(\"Output of Deapth First Search >>>>> \",visitedList)  \n",
    "    print(\"Comparative Factor >>>>>{}\".format(DFSstep))\n",
    "    \n",
    "DFS()    \n",
    "\n",
    "\n",
    "#When target is far away from source DFS is efficient\n",
    "#When target is nearer to source BFS is efficient\n"
   ]
  },
  {
   "cell_type": "code",
   "execution_count": 13,
   "metadata": {},
   "outputs": [
    {
     "name": "stdout",
     "output_type": "stream",
     "text": [
      "Output of Breadth First Search >>>> [0, 1, 2, 3]\n",
      "Comparative Factor >>>>>8\n"
     ]
    }
   ],
   "source": [
    "def BFS():\n",
    "    Queue=[]\n",
    "    Queue.append(0)\n",
    "    visitedList=[]\n",
    "    BFSstep=0\n",
    "    while Queue:\n",
    "        current=Queue.pop()\n",
    "        for neighbour in AdjList[current]:\n",
    "            BFSstep+=1\n",
    "            if not neighbour in visitedList:\n",
    "                Queue.insert(0,neighbour)\n",
    "               \n",
    "        visitedList.append(current)\n",
    "       \n",
    "        if current==Target:\n",
    "            break\n",
    "    print(\"Output of Breadth First Search >>>>\",visitedList)    \n",
    "    print(\"Comparative Factor >>>>>{}\".format(BFSstep))\n",
    "\n",
    "BFS()   "
   ]
  },
  {
   "cell_type": "code",
   "execution_count": 14,
   "metadata": {},
   "outputs": [
    {
     "name": "stdout",
     "output_type": "stream",
     "text": [
      "0 [1, 2]\n",
      "0 [1, 2]\n",
      "0 [1, 2]\n",
      "1 [0, 3]\n",
      "1 [0, 3]\n",
      "0 [1, 2]\n",
      "2 [0, 4, 5]\n",
      "2 [0, 4, 5]\n",
      "2 [0, 4, 5]\n",
      "0 [1, 2]\n",
      "1 [0, 3]\n",
      "0 [1, 2]\n",
      "0 [1, 2]\n",
      "1 [0, 3]\n",
      "3 [1]\n",
      "0 [1, 2]\n",
      "2 [0, 4, 5]\n",
      "0 [1, 2]\n",
      "0 [1, 2]\n",
      "2 [0, 4, 5]\n",
      "4 [2, 6]\n",
      "4 [2, 6]\n",
      "Comparative Factor >>>>>4\n",
      "Path is Available!!!\n"
     ]
    }
   ],
   "source": [
    "#IDDFS => DFID\n",
    "IDDFSStep=0\n",
    "def IDDFS(currentVertex,DestVertex,limit):#Its depth limited search\n",
    "    #print(\"Checkiing for Destination\",currentVertex)\n",
    "    if currentVertex==DestVertex:\n",
    "        return True\n",
    "    if limit<=0:\n",
    "        return False\n",
    "    \n",
    "    for Vertex in AdjList[currentVertex]:        \n",
    "        print(currentVertex,AdjList[currentVertex])\n",
    "        if IDDFS(Vertex,DestVertex,limit-1):\n",
    "            return True\n",
    "        \n",
    "    return False\n",
    "\n",
    "def mainIDDFS(currentVertex,DestVertex,maxDepth):#its IDDFS search\n",
    "    IDDFSStep=0#Comparison parameter\n",
    "    for limit in range(maxDepth):\n",
    "        IDDFSStep+=1\n",
    "        if IDDFS(currentVertex,DestVertex,limit):          \n",
    "            print(\"Comparative Factor >>>>>{}\".format(IDDFSStep))\n",
    "            return True\n",
    "    return False\n",
    "\n",
    "if   not mainIDDFS(0,6,4):\n",
    "\n",
    "    print(\"Path is not Available within specified Depth!!!\")\n",
    "    \n",
    "else:\n",
    "    \n",
    "    print(\"Path is Available!!!\")\n",
    "    "
   ]
  }
 ],
 "metadata": {
  "kernelspec": {
   "display_name": "Python 3",
   "language": "python",
   "name": "python3"
  },
  "language_info": {
   "codemirror_mode": {
    "name": "ipython",
    "version": 3
   },
   "file_extension": ".py",
   "mimetype": "text/x-python",
   "name": "python",
   "nbconvert_exporter": "python",
   "pygments_lexer": "ipython3",
   "version": "3.7.4"
  }
 },
 "nbformat": 4,
 "nbformat_minor": 2
}
